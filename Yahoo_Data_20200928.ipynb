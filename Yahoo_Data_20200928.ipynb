{
 "cells": [
  {
   "cell_type": "code",
   "execution_count": 1,
   "metadata": {},
   "outputs": [],
   "source": [
    "from datetime import datetime, timedelta\n",
    "\n",
    "import yfinance as yf\n",
    "import pandas as pd\n",
    "import numpy as np\n",
    "\n",
    "import csv\n",
    "import xlsxwriter"
   ]
  },
  {
   "cell_type": "code",
   "execution_count": 2,
   "metadata": {},
   "outputs": [],
   "source": [
    "today_date = '2020-09-28'\n",
    "\n",
    "symbol = ['EURUSD=X', 'GBPUSD=X' , 'AUDUSD=X', 'GC=F', 'CL=F', 'NG=F', '^DJI', '^IXIC', '^GSPC', \n",
    "                   '^FTSE' ]"
   ]
  },
  {
   "cell_type": "code",
   "execution_count": 16,
   "metadata": {},
   "outputs": [
    {
     "name": "stdout",
     "output_type": "stream",
     "text": [
      "[*********************100%***********************]  10 of 10 completed\n",
      "[*********************100%***********************]  2 of 2 completed\n"
     ]
    }
   ],
   "source": [
    "data = yf.download(symbol, period = '1y')['Close']\n",
    "\n",
    "ticker_data = yf.download('AAPL  GOOG', period = '1y')['Close']"
   ]
  },
  {
   "cell_type": "code",
   "execution_count": 4,
   "metadata": {},
   "outputs": [],
   "source": [
    "data_today = data.iloc[-1]\n",
    "data_1w = data.iloc[-6]\n",
    "data_1y = data.iloc[0]"
   ]
  },
  {
   "cell_type": "code",
   "execution_count": 5,
   "metadata": {},
   "outputs": [],
   "source": [
    "dt = pd.DataFrame(data_today)\n",
    "ww = pd.DataFrame(data_today.values/data_1w.values-1) \n",
    "yy = pd.DataFrame(data_today.values/data_1y.values-1) "
   ]
  },
  {
   "cell_type": "code",
   "execution_count": 6,
   "metadata": {},
   "outputs": [],
   "source": [
    "ww.index.name = 'Key'\n",
    "yy.index.name = 'Key'\n",
    "\n",
    "ww_yy = pd.merge(ww, yy, how ='inner', on='Key')"
   ]
  },
  {
   "cell_type": "code",
   "execution_count": 21,
   "metadata": {},
   "outputs": [],
   "source": [
    "excel = pd.ExcelWriter('Ofc_News.xlsx', engine ='xlsxwriter')\n",
    "\n",
    "workbook  = excel.book\n",
    "\n",
    "\n",
    "dt.to_excel(excel, sheet_name ='data') \n",
    "\n",
    "pd.DataFrame(ticker_data).to_excel(excel, sheet_name ='chart')\n",
    "\n",
    "worksheet1 = excel.sheets['data']\n",
    "\n",
    "\n",
    "perc_format = workbook.add_format({'num_format': '0.0%'})\n",
    "bold = workbook.add_format({'bold':True})\n",
    "\n",
    "\n",
    "ww_yy.to_excel(excel, sheet_name ='data', startrow = 0, startcol = 2, index = False)\n",
    "\n",
    "\n",
    "worksheet1.write('A1', 'Particulars', bold)\n",
    "worksheet1.write('B1', today_date, bold)\n",
    "worksheet1.write('C1', 'WoW', bold)\n",
    "worksheet1.write('D1', 'YoY', bold)\n",
    "\n",
    "worksheet1.set_column('C:D', None, perc_format)\n",
    "\n",
    "\n",
    "excel.save() "
   ]
  }
 ],
 "metadata": {
  "kernelspec": {
   "display_name": "Python 3",
   "language": "python",
   "name": "python3"
  },
  "language_info": {
   "codemirror_mode": {
    "name": "ipython",
    "version": 3
   },
   "file_extension": ".py",
   "mimetype": "text/x-python",
   "name": "python",
   "nbconvert_exporter": "python",
   "pygments_lexer": "ipython3",
   "version": "3.7.8"
  }
 },
 "nbformat": 4,
 "nbformat_minor": 4
}
